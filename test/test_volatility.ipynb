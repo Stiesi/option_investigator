{
 "cells": [
  {
   "cell_type": "code",
   "execution_count": null,
   "metadata": {},
   "outputs": [],
   "source": []
  },
  {
   "attachments": {},
   "cell_type": "markdown",
   "metadata": {},
   "source": [
    "### Volatility"
   ]
  },
  {
   "cell_type": "code",
   "execution_count": 1,
   "metadata": {},
   "outputs": [
    {
     "ename": "ModuleNotFoundError",
     "evalue": "No module named 'pandas'",
     "output_type": "error",
     "traceback": [
      "\u001b[0;31m---------------------------------------------------------------------------\u001b[0m",
      "\u001b[0;31mModuleNotFoundError\u001b[0m                       Traceback (most recent call last)",
      "Cell \u001b[0;32mIn[1], line 1\u001b[0m\n\u001b[0;32m----> 1\u001b[0m \u001b[39mimport\u001b[39;00m \u001b[39mpandas\u001b[39;00m \u001b[39mas\u001b[39;00m \u001b[39mpd\u001b[39;00m\n\u001b[1;32m      2\u001b[0m \u001b[39mimport\u001b[39;00m \u001b[39mnumpy\u001b[39;00m \u001b[39mas\u001b[39;00m \u001b[39mnp\u001b[39;00m\n",
      "\u001b[0;31mModuleNotFoundError\u001b[0m: No module named 'pandas'"
     ]
    }
   ],
   "source": [
    "import pandas as pd\n",
    "import numpy as np"
   ]
  },
  {
   "cell_type": "code",
   "execution_count": null,
   "metadata": {},
   "outputs": [],
   "source": [
    "def cumstd(series):\n",
    "   # needs minimum 5 numbers\n",
    "   nrmin=5\n",
    "   myvals = series.pct_change()\n",
    "   #myvals = series\n",
    "   data = [myvals.iloc[:i].std() for i in range(nrmin,len(myvals))]\n",
    "   # add first value for first 2 entries\n",
    "   return np.array([data[0]]*nrmin+data)*(252**0.5) "
   ]
  },
  {
   "cell_type": "code",
   "execution_count": null,
   "metadata": {},
   "outputs": [],
   "source": [
    "num=100\n",
    "xc = np.linspace(1,100,num=num)\n",
    "yc = np.ones(num)*50.\n",
    "yl = np.linspace(1,100,num=num)\n",
    "\n",
    "ycv = yc + np.sin(2*np.pi * xc/10.) * 5.\n",
    "ycr = yc + np.random.random(100)*5\n",
    "\n",
    "ylv = yl + np.sin(2*np.pi * xc/10.) * 5.\n",
    "ylr = yl + np.random.random(100)*5\n",
    "\n",
    "df = pd.DataFrame({'day':xc,'kurs':ylv})\n",
    "df['vola'] = cumstd(df.kurs)\n",
    "#df.plot('yl','vola')\n",
    "print(df)"
   ]
  },
  {
   "cell_type": "code",
   "execution_count": null,
   "metadata": {},
   "outputs": [],
   "source": []
  }
 ],
 "metadata": {
  "kernelspec": {
   "display_name": "Python 3",
   "language": "python",
   "name": "python3"
  },
  "language_info": {
   "codemirror_mode": {
    "name": "ipython",
    "version": 3
   },
   "file_extension": ".py",
   "mimetype": "text/x-python",
   "name": "python",
   "nbconvert_exporter": "python",
   "pygments_lexer": "ipython3",
   "version": "3.10.10"
  },
  "orig_nbformat": 4
 },
 "nbformat": 4,
 "nbformat_minor": 2
}
